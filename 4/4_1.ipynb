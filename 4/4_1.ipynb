{
 "cells": [
  {
   "cell_type": "markdown",
   "metadata": {},
   "source": [
    "1. Квадраты всех четных чисел (используя map и filter)"
   ]
  },
  {
   "cell_type": "code",
   "execution_count": 113,
   "metadata": {
    "pycharm": {
     "is_executing": false
    }
   },
   "outputs": [
    {
     "data": {
      "text/plain": [
       "[4, 16]"
      ]
     },
     "execution_count": 113,
     "metadata": {},
     "output_type": "execute_result"
    }
   ],
   "source": [
    "numbers = [1,2,3,4,5]\n",
    "numbers_square = list(filter(lambda x : x % 2 == 0, map(lambda x : x ** 2, numbers)))\n",
    "\n",
    "numbers_square"
   ]
  },
  {
   "cell_type": "markdown",
   "metadata": {},
   "source": [
    "2. Дана входная строка и массив чисел, необходимо вернуть строку с теми буквами, которые стоят на указанных местах \n",
    "(два варианта, используя и не используя list comprehensions)"
   ]
  },
  {
   "cell_type": "code",
   "execution_count": 114,
   "metadata": {
    "pycharm": {
     "is_executing": false
    }
   },
   "outputs": [
    {
     "data": {
      "text/plain": [
       "'смп'"
      ]
     },
     "execution_count": 114,
     "metadata": {},
     "output_type": "execute_result"
    }
   ],
   "source": [
    "# without list comprehensions\n",
    "str = \"Всем привет\"\n",
    "numbers = [1, 3, 5]\n",
    "new_str = \"\"\n",
    "for x in numbers:\n",
    "    new_str+=str[x]\n",
    "        \n",
    "new_str"
   ]
  },
  {
   "cell_type": "code",
   "execution_count": 115,
   "metadata": {
    "pycharm": {
     "is_executing": false
    }
   },
   "outputs": [
    {
     "data": {
      "text/plain": [
       "'смп'"
      ]
     },
     "execution_count": 115,
     "metadata": {},
     "output_type": "execute_result"
    }
   ],
   "source": [
    "#with list comprehensions\n",
    "str = \"Всем привет\"\n",
    "numbers = [1, 3, 5]\n",
    "new_str = ''.join([str[i] for i in numbers])\n",
    "\n",
    "new_str"
   ]
  },
  {
   "cell_type": "markdown",
   "metadata": {
    "pycharm": {
     "is_executing": false
    }
   },
   "source": [
    "3. Задание на итераторы. Необходимо вернуть текст, в котором все буквы в нижнем регистре, а первые буквы\n",
    "каждого предложения – в верхнем."
   ]
  },
  {
   "cell_type": "code",
   "execution_count": 116,
   "metadata": {},
   "outputs": [
    {
     "data": {
      "text/plain": [
       "'Hello. My name is sam. I am six.'"
      ]
     },
     "execution_count": 116,
     "metadata": {},
     "output_type": "execute_result"
    }
   ],
   "source": [
    "text = \"hELLo. my nAMe Is SAm. I am sIx.\"\n",
    "text_arr = text.split('. ')\n",
    "res_text = []\n",
    "for sentence in text_arr:\n",
    "    sentence = sentence[:1].upper() + sentence[1:].lower()\n",
    "    res_text.append(sentence)\n",
    "new_text = '. '.join(res_text)\n",
    "\n",
    "new_text"
   ]
  },
  {
   "cell_type": "markdown",
   "metadata": {},
   "source": [
    "4. functools.reduce"
   ]
  },
  {
   "cell_type": "code",
   "execution_count": 117,
   "metadata": {},
   "outputs": [
    {
     "data": {
      "text/plain": [
       "189"
      ]
     },
     "execution_count": 117,
     "metadata": {},
     "output_type": "execute_result"
    }
   ],
   "source": [
    "def reduce(function, iterable, initializer = None):\n",
    "    it = iter(iterable)\n",
    "    if initializer is None:\n",
    "        value = next(it)\n",
    "    else:\n",
    "        value = initializer\n",
    "    for element in it:\n",
    "        value = function(value, element)\n",
    "    return value\n",
    "\n",
    "reduce(lambda x, y: x*y, [1, 3, 7, 9])"
   ]
  },
  {
   "cell_type": "markdown",
   "metadata": {},
   "source": [
    "5. Создайте функцию pipeline_each, в которую вы будете подавать итерируемый объект и список функций, которые последовательно надо к нему применить."
   ]
  },
  {
   "cell_type": "code",
   "execution_count": 60,
   "metadata": {},
   "outputs": [
    {
     "data": {
      "text/plain": [
       "[0.0, 3.5, 13.0, 31.5, 62.0]"
      ]
     },
     "execution_count": 60,
     "metadata": {},
     "output_type": "execute_result"
    }
   ],
   "source": [
    "def pipeline_each(it, functions):\n",
    "    for f in functions:\n",
    "        for i, j in enumerate(it):\n",
    "            it[i] = f(j)\n",
    "    return it\n",
    "\n",
    "it = [1, 2, 3, 4, 5]\n",
    "\n",
    "functions = [\n",
    "    lambda x: x**3,\n",
    "    lambda x: x-1,\n",
    "    lambda x: x/2\n",
    "]\n",
    "        \n",
    "pipeline_each(it, functions)"
   ]
  },
  {
   "cell_type": "code",
   "execution_count": null,
   "metadata": {},
   "outputs": [],
   "source": [
    "6. Написать генератор, возвращающий по очереди все слова, входящие в предложение."
   ]
  },
  {
   "cell_type": "code",
   "execution_count": 118,
   "metadata": {},
   "outputs": [
    {
     "name": "stdout",
     "output_type": "stream",
     "text": [
      "Hello,\n",
      "My\n",
      "name\n",
      "is\n",
      "Sam.\n",
      "I\n",
      "am\n",
      "six.\n"
     ]
    }
   ],
   "source": [
    "text = \"Hello, My name is Sam. I am six.\"\n",
    "\n",
    "def generator(text):\n",
    "    text = text.split(' ')\n",
    "    for word in text:\n",
    "        yield word\n",
    "\n",
    "for word in generator(text):\n",
    "    print(word)"
   ]
  },
  {
   "cell_type": "markdown",
   "metadata": {},
   "source": [
    "7. Написать генератор псевдо случайных чисел"
   ]
  },
  {
   "cell_type": "code",
   "execution_count": 119,
   "metadata": {},
   "outputs": [
    {
     "name": "stdout",
     "output_type": "stream",
     "text": [
      "1000\n",
      "1024\n",
      "1064\n",
      "1144\n",
      "1104\n"
     ]
    }
   ],
   "source": [
    "def generator(seed = 0):\n",
    "    if (seed == 0):\n",
    "        seed = 1000+(684513%864)\n",
    "    while True:\n",
    "        seed = 1000+(seed**3)%(seed%864)\n",
    "        yield seed\n",
    "\n",
    "rand = generator(8)\n",
    "\n",
    "for i in range(5):\n",
    "    print(next(rand))"
   ]
  },
  {
   "cell_type": "markdown",
   "metadata": {},
   "source": [
    "8. Написать корутину, которая реализует бесконечную\n",
    "арифметическую прогрессию с возможностью перезапуска с\n",
    "любого места (3, 4, 5, 6, send(30), 31, 32, 33, …)"
   ]
  },
  {
   "cell_type": "code",
   "execution_count": 120,
   "metadata": {},
   "outputs": [
    {
     "name": "stdout",
     "output_type": "stream",
     "text": [
      "0\n",
      "1\n",
      "2\n",
      "33\n",
      "34\n",
      "35\n",
      "36\n",
      "103\n",
      "104\n",
      "105\n",
      "106\n",
      "107\n"
     ]
    }
   ],
   "source": [
    "def coroutine():\n",
    "    value = 0\n",
    "    while True:\n",
    "        input = (yield value)\n",
    "        if input is not None:\n",
    "            value = input\n",
    "        else:\n",
    "            value += 1\n",
    "            \n",
    "cor = coroutine()\n",
    "for i in range(3):\n",
    "    print(next(cor))\n",
    "\n",
    "cor.send(32)\n",
    "\n",
    "for i in range(4):\n",
    "    print(next(cor))\n",
    "    \n",
    "cor.send(102)\n",
    "\n",
    "for i in range(5):\n",
    "    print(next(cor))"
   ]
  }
 ],
 "metadata": {
  "kernelspec": {
   "display_name": "Python 3",
   "language": "python",
   "name": "python3"
  },
  "language_info": {
   "codemirror_mode": {
    "name": "ipython",
    "version": 3
   },
   "file_extension": ".py",
   "mimetype": "text/x-python",
   "name": "python",
   "nbconvert_exporter": "python",
   "pygments_lexer": "ipython3",
   "version": "3.7.3"
  },
  "pycharm": {
   "stem_cell": {
    "cell_type": "raw",
    "metadata": {
     "collapsed": false
    },
    "source": [
     "{\n",
     " \"cells\": [\n",
     "  {\n",
     "   \"cell_type\": \"markdown\",\n",
     "   \"metadata\": {},\n",
     "   \"source\": [\n",
     "    \"## [mlcourse.ai](https://mlcourse.ai) – Open Machine Learning Course \\n\",\n",
     "    \"Author: Arina Lopukhova (@erynn). Edited by [Yury Kashnitskiy](https://yorko.github.io) (@yorko) and Vadim Shestopalov (@vchulski). This material is subject to the terms and conditions of the [Creative Commons CC BY-NC-SA 4.0](https://creativecommons.org/licenses/by-nc-sa/4.0/) license. Free use is permitted for any non-commercial purpose.\"\n",
     "   ]\n",
     "  },\n",
     "  {\n",
     "   \"cell_type\": \"markdown\",\n",
     "   \"metadata\": {},\n",
     "   \"source\": [\n",
     "    \"The dataset has the following features:\\n\",\n",
     "    \"\\n\",\n",
     "    \"- __ID__ - Unique number for each athlete\\n\",\n",
     "    \"- __Name__ - Athlete's name\\n\",\n",
     "    \"- __Sex__ - M or F\\n\",\n",
     "    \"- __Age__ - Integer\\n\",\n",
     "    \"- __Height__ - In centimeters\\n\",\n",
     "    \"- __Weight__ - In kilograms\\n\",\n",
     "    \"- __Team__ - Team name\\n\",\n",
     "    \"- __NOC__ - National Olympic Committee 3-letter code\\n\",\n",
     "    \"- __Games__ - Year and season\\n\",\n",
     "    \"- __Year__ - Integer\\n\",\n",
     "    \"- __Season__ - Summer or Winter\\n\",\n",
     "    \"- __City__ - Host city\\n\",\n",
     "    \"- __Sport__ - Sport\\n\",\n",
     "    \"- __Event__ - Event\\n\",\n",
     "    \"- __Medal__ - Gold, Silver, Bronze, or NA\"\n",
     "   ]\n",
     "  },\n",
     "  {\n",
     "   \"cell_type\": \"code\",\n",
     "   \"execution_count\": null,\n",
     "   \"metadata\": {\n",
     "    \"collapsed\": true\n",
     "   },\n",
     "   \"outputs\": [],\n",
     "   \"source\": [\n",
     "    \"import pandas as pd\"\n",
     "   ]\n",
     "  },\n",
     "  {\n",
     "   \"cell_type\": \"code\",\n",
     "   \"execution_count\": null,\n",
     "   \"metadata\": {\n",
     "    \"collapsed\": true\n",
     "   },\n",
     "   \"outputs\": [],\n",
     "   \"source\": [\n",
     "    \"# Change the path to the dataset file if needed. \\n\",\n",
     "    \"PATH = 'athlete_events.csv'\"\n",
     "   ]\n",
     "  },\n",
     "  {\n",
     "   \"cell_type\": \"code\",\n",
     "   \"execution_count\": null,\n",
     "   \"metadata\": {\n",
     "    \"collapsed\": true\n",
     "   },\n",
     "   \"outputs\": [],\n",
     "   \"source\": [\n",
     "    \"data = pd.read_csv(PATH)\\n\",\n",
     "    \"data.head()\"\n",
     "   ]\n",
     "  },\n",
     "  {\n",
     "   \"cell_type\": \"markdown\",\n",
     "   \"metadata\": {},\n",
     "   \"source\": [\n",
     "    \"__1. How old were the youngest male and female participants of the 1992 Olympics?__\\n\",\n",
     "    \"\\n\",\n",
     "    \"\\n\",\n",
     "    \"- 16 and 15\\n\",\n",
     "    \"- 14 and 13 \\n\",\n",
     "    \"- 13 and 11\\n\",\n",
     "    \"- 11 and 12\"\n",
     "   ]\n",
     "  },\n",
     "  {\n",
     "   \"cell_type\": \"code\",\n",
     "   \"execution_count\": null,\n",
     "   \"metadata\": {\n",
     "    \"collapsed\": true\n",
     "   },\n",
     "   \"outputs\": [],\n",
     "   \"source\": [\n",
     "    \"# You code here\"\n",
     "   ]\n",
     "  },\n",
     "  {\n",
     "   \"cell_type\": \"markdown\",\n",
     "   \"metadata\": {},\n",
     "   \"source\": [\n",
     "    \"__2. What was the percentage of male basketball players among all the male participants of the 2012 Olympics? Round the answer to the first decimal.__\\n\",\n",
     "    \"\\n\",\n",
     "    \"*Hint:* drop duplicate athletes where necessary to count each athlete just once. This applies to other questions too. \\n\",\n",
     "    \"\\n\",\n",
     "    \"- 0.2\\n\",\n",
     "    \"- 1.5 \\n\",\n",
     "    \"- 2.5\\n\",\n",
     "    \"- 7.7\"\n",
     "   ]\n",
     "  },\n",
     "  {\n",
     "   \"cell_type\": \"code\",\n",
     "   \"execution_count\": null,\n",
     "   \"metadata\": {\n",
     "    \"collapsed\": true\n",
     "   },\n",
     "   \"outputs\": [],\n",
     "   \"source\": [\n",
     "    \"# You code here\"\n",
     "   ]\n",
     "  },\n",
     "  {\n",
     "   \"cell_type\": \"markdown\",\n",
     "   \"metadata\": {},\n",
     "   \"source\": [\n",
     "    \"__3. What are the mean and standard deviation of height for female tennis players who participated in the 2000 Olympics? Round the answer to the first decimal.__\\n\",\n",
     "    \"\\n\",\n",
     "    \"- 171.8 and 6.5\\n\",\n",
     "    \"- 179.4 and 10\\n\",\n",
     "    \"- 180.7 and 6.7\\n\",\n",
     "    \"- 182.4 and 9.1 \"\n",
     "   ]\n",
     "  },\n",
     "  {\n",
     "   \"cell_type\": \"code\",\n",
     "   \"execution_count\": null,\n",
     "   \"metadata\": {\n",
     "    \"collapsed\": true\n",
     "   },\n",
     "   \"outputs\": [],\n",
     "   \"source\": [\n",
     "    \"# You code here\"\n",
     "   ]\n",
     "  },\n",
     "  {\n",
     "   \"cell_type\": \"markdown\",\n",
     "   \"metadata\": {},\n",
     "   \"source\": [\n",
     "    \"__4. Find the heaviest athlete among 2006 Olympics participants. What sport did he or she do?__\\n\",\n",
     "    \"\\n\",\n",
     "    \"\\n\",\n",
     "    \"- Judo\\n\",\n",
     "    \"- Bobsleigh \\n\",\n",
     "    \"- Skeleton\\n\",\n",
     "    \"- Boxing\"\n",
     "   ]\n",
     "  },\n",
     "  {\n",
     "   \"cell_type\": \"code\",\n",
     "   \"execution_count\": null,\n",
     "   \"metadata\": {\n",
     "    \"collapsed\": true\n",
     "   },\n",
     "   \"outputs\": [],\n",
     "   \"source\": [\n",
     "    \"# You code here\"\n",
     "   ]\n",
     "  },\n",
     "  {\n",
     "   \"cell_type\": \"markdown\",\n",
     "   \"metadata\": {},\n",
     "   \"source\": [\n",
     "    \"__5. How many times did John Aalberg participate in the Olympics held in different years?__\\n\",\n",
     "    \"\\n\",\n",
     "    \"\\n\",\n",
     "    \"- 0\\n\",\n",
     "    \"- 1 \\n\",\n",
     "    \"- 2\\n\",\n",
     "    \"- 3 \"\n",
     "   ]\n",
     "  },\n",
     "  {\n",
     "   \"cell_type\": \"code\",\n",
     "   \"execution_count\": null,\n",
     "   \"metadata\": {\n",
     "    \"collapsed\": true\n",
     "   },\n",
     "   \"outputs\": [],\n",
     "   \"source\": [\n",
     "    \"# You code here\"\n",
     "   ]\n",
     "  },\n",
     "  {\n",
     "   \"cell_type\": \"markdown\",\n",
     "   \"metadata\": {},\n",
     "   \"source\": [\n",
     "    \"__6. How many gold medals in tennis did the Switzerland team win at the 2008 Olympics?__\\n\",\n",
     "    \"\\n\",\n",
     "    \"\\n\",\n",
     "    \"- 0\\n\",\n",
     "    \"- 1 \\n\",\n",
     "    \"- 2\\n\",\n",
     "    \"- 3 \"\n",
     "   ]\n",
     "  },\n",
     "  {\n",
     "   \"cell_type\": \"code\",\n",
     "   \"execution_count\": null,\n",
     "   \"metadata\": {\n",
     "    \"collapsed\": true\n",
     "   },\n",
     "   \"outputs\": [],\n",
     "   \"source\": [\n",
     "    \"# You code here\"\n",
     "   ]\n",
     "  },\n",
     "  {\n",
     "   \"cell_type\": \"markdown\",\n",
     "   \"metadata\": {},\n",
     "   \"source\": [\n",
     "    \"__7. Is it true that Spain won fewer medals than Italy at the 2016 Olympics? Do not consider NaN values in _Medal_ column.__ \\n\",\n",
     "    \"\\n\",\n",
     "    \"\\n\",\n",
     "    \"- Yes\\n\",\n",
     "    \"- No\"\n",
     "   ]\n",
     "  },\n",
     "  {\n",
     "   \"cell_type\": \"code\",\n",
     "   \"execution_count\": null,\n",
     "   \"metadata\": {\n",
     "    \"collapsed\": true\n",
     "   },\n",
     "   \"outputs\": [],\n",
     "   \"source\": [\n",
     "    \"# You code here\"\n",
     "   ]\n",
     "  },\n",
     "  {\n",
     "   \"cell_type\": \"markdown\",\n",
     "   \"metadata\": {},\n",
     "   \"source\": [\n",
     "    \"__8. What are the most and least common age groups among the participants of the 2008 Olympics?__\\n\",\n",
     "    \"\\n\",\n",
     "    \"\\n\",\n",
     "    \"- [45-55] and [25-35) correspondingly\\n\",\n",
     "    \"- [45-55] and [15-25) correspondingly\\n\",\n",
     "    \"- [35-45) and [25-35) correspondingly\\n\",\n",
     "    \"- [45-55] and [35-45) correspondingly\"\n",
     "   ]\n",
     "  },\n",
     "  {\n",
     "   \"cell_type\": \"code\",\n",
     "   \"execution_count\": null,\n",
     "   \"metadata\": {\n",
     "    \"collapsed\": true\n",
     "   },\n",
     "   \"outputs\": [],\n",
     "   \"source\": [\n",
     "    \"# You code here\"\n",
     "   ]\n",
     "  },\n",
     "  {\n",
     "   \"cell_type\": \"markdown\",\n",
     "   \"metadata\": {},\n",
     "   \"source\": [\n",
     "    \"__9. Is it true that there were Summer Olympics held in Atlanta? Is it true that there were Winter Olympics held in Squaw Valley?__\\n\",\n",
     "    \"\\n\",\n",
     "    \"\\n\",\n",
     "    \"- Yes, Yes\\n\",\n",
     "    \"- Yes, No\\n\",\n",
     "    \"- No, Yes \\n\",\n",
     "    \"- No, No \"\n",
     "   ]\n",
     "  },\n",
     "  {\n",
     "   \"cell_type\": \"code\",\n",
     "   \"execution_count\": null,\n",
     "   \"metadata\": {\n",
     "    \"collapsed\": true\n",
     "   },\n",
     "   \"outputs\": [],\n",
     "   \"source\": [\n",
     "    \"# You code here\"\n",
     "   ]\n",
     "  },\n",
     "  {\n",
     "   \"cell_type\": \"markdown\",\n",
     "   \"metadata\": {},\n",
     "   \"source\": [\n",
     "    \"__10. What is the absolute difference between the number of unique sports at the 1986 Olympics and 2002 Olympics?__\\n\",\n",
     "    \"\\n\",\n",
     "    \"\\n\",\n",
     "    \"- 3 \\n\",\n",
     "    \"- 10\\n\",\n",
     "    \"- 15\\n\",\n",
     "    \"- 27 \"\n",
     "   ]\n",
     "  },\n",
     "  {\n",
     "   \"cell_type\": \"code\",\n",
     "   \"execution_count\": null,\n",
     "   \"metadata\": {\n",
     "    \"collapsed\": true\n",
     "   },\n",
     "   \"outputs\": [],\n",
     "   \"source\": [\n",
     "    \"# You code here\"\n",
     "   ]\n",
     "  },\n",
     "  {\n",
     "   \"cell_type\": \"markdown\",\n",
     "   \"metadata\": {},\n",
     "   \"source\": [\n",
     "    \"That's it! Now go and do 30 push-ups! :)\"\n",
     "   ]\n",
     "  }\n",
     " ],\n",
     " \"metadata\": {\n",
     "  \"kernelspec\": {\n",
     "   \"display_name\": \"Python 3\",\n",
     "   \"language\": \"python\",\n",
     "   \"name\": \"python3\"\n",
     "  },\n",
     "  \"language_info\": {\n",
     "   \"codemirror_mode\": {\n",
     "    \"name\": \"ipython\",\n",
     "    \"version\": 3\n",
     "   },\n",
     "   \"file_extension\": \".py\",\n",
     "   \"mimetype\": \"text/x-python\",\n",
     "   \"name\": \"python\",\n",
     "   \"nbconvert_exporter\": \"python\",\n",
     "   \"pygments_lexer\": \"ipython3\",\n",
     "   \"version\": \"3.6.1\"\n",
     "  }\n",
     " },\n",
     " \"nbformat\": 4,\n",
     " \"nbformat_minor\": 2\n",
     "}\n",
     "\n",
     "\n",
     "\n"
    ]
   }
  }
 },
 "nbformat": 4,
 "nbformat_minor": 1
}
